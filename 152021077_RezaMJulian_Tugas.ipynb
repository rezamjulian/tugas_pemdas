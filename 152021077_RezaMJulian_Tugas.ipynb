{
 "cells": [
  {
   "cell_type": "code",
   "execution_count": 13,
   "metadata": {},
   "outputs": [
    {
     "name": "stdout",
     "output_type": "stream",
     "text": [
      "    Nama  Usia   Gaji\n",
      "0   John    25  52500\n",
      "1   Jane    35  63000\n",
      "2    Bob    30  73500\n",
      "3  Alice    28  57750\n"
     ]
    }
   ],
   "source": [
    "# Reza Mochamad Julian\n",
    "# 152021077\n",
    "# G\n",
    "\n",
    "# Pertanyaan 1 \n",
    "\n",
    "import pandas as pd\n",
    "\n",
    "data = {'Nama': ['John', 'Jane', 'Bob', 'Alice'],\n",
    "        'Usia': [25, 35, 30, 28],\n",
    "        'Gaji': [50000, 60000, 70000, 55000]}\n",
    "\n",
    "df = pd.DataFrame(data)\n",
    "\n",
    "# Fungsi lambda untuk menghitung gaji setelah peningkatan 5%\n",
    "hitung_gaji_setelah_peningkatan = lambda gaji: gaji * 1.05\n",
    "\n",
    "\n",
    "for index, row in df.iterrows():\n",
    "    # Menghitung gaji setelah peningkatan 5%\n",
    "    gaji_setelah_peningkatan = hitung_gaji_setelah_peningkatan(row['Gaji'])\n",
    "    \n",
    "    # Memperbarui nilai kolom 'Gaji' pada DataFrame\n",
    "    df.at[index, 'Gaji'] = gaji_setelah_peningkatan\n",
    "\n",
    "\n",
    "print(df)\n"
   ]
  },
  {
   "cell_type": "code",
   "execution_count": 15,
   "metadata": {},
   "outputs": [
    {
     "name": "stdout",
     "output_type": "stream",
     "text": [
      "    Nama  Usia   Gaji  Gaji peningkatan sebesar 5%\n",
      "0   John    25  50000                      52500.0\n",
      "1   Jane    35  60000                      63000.0\n",
      "2    Bob    30  70000                      73500.0\n",
      "3  Alice    28  55000                      57750.0\n"
     ]
    }
   ],
   "source": [
    "# Pertanyaan 2\n",
    "\n",
    "import pandas as pd\n",
    "\n",
    "data = {'Nama': ['John', 'Jane', 'Bob', 'Alice'],\n",
    "        'Usia': [25, 35, 30, 28],\n",
    "        'Gaji': [50000, 60000, 70000, 55000]}\n",
    "\n",
    "df = pd.DataFrame(data)\n",
    "\n",
    "# Fungsi lambda untuk menghitung gaji setelah peningkatan 5%\n",
    "hitung_gaji_setelah_peningkatan = lambda gaji: gaji * 1.05\n",
    "\n",
    "\n",
    "for index, row in df.iterrows():\n",
    "    # Menghitung gaji setelah peningkatan 5%\n",
    "    gaji_setelah_peningkatan = hitung_gaji_setelah_peningkatan(row['Gaji'])\n",
    "    \n",
    "    # Memperbarui nilai kolom 'Gaji' pada DataFrame\n",
    "    df.at[index, 'Gaji peningkatan sebesar 5%'] = gaji_setelah_peningkatan\n",
    "\n",
    "\n",
    "print(df)\n",
    "\n",
    "\n"
   ]
  },
  {
   "cell_type": "code",
   "execution_count": 18,
   "metadata": {},
   "outputs": [
    {
     "name": "stdout",
     "output_type": "stream",
     "text": [
      "    Nama  Usia   Gaji\n",
      "0   John    25  50000\n",
      "1   Jane    35  61200\n",
      "2    Bob    30  70000\n",
      "3  Alice    28  55000\n"
     ]
    }
   ],
   "source": [
    "# Pertanyaan 3 \n",
    "\n",
    "import pandas as pd\n",
    "\n",
    "data = {'Nama': ['John', 'Jane', 'Bob', 'Alice'],\n",
    "        'Usia': [25, 35, 30, 28],\n",
    "        'Gaji': [50000, 60000, 70000, 55000]}\n",
    "\n",
    "df = pd.DataFrame(data)\n",
    "\n",
    "for index, row in df.iterrows():\n",
    "    if row['Usia'] > 30:\n",
    "        df.at[index, 'Gaji'] = (lambda x: x * 1.02)(row['Gaji'])\n",
    "\n",
    "print(df)\n"
   ]
  },
  {
   "cell_type": "code",
   "execution_count": 24,
   "metadata": {},
   "outputs": [
    {
     "name": "stdout",
     "output_type": "stream",
     "text": [
      "    Nama  Usia   Gaji  Gaji_Baru\n",
      "0   John    25  50000    50000.0\n",
      "1   Jane    35  60000    61200.0\n",
      "2    Bob    30  70000    70000.0\n",
      "3  Alice    28  55000    55000.0\n"
     ]
    }
   ],
   "source": [
    "# Pertanyaan 4\n",
    "\n",
    "import pandas as pd\n",
    "\n",
    "data = {'Nama': ['John', 'Jane', 'Bob', 'Alice'],\n",
    "        'Usia': [25, 35, 30, 28],\n",
    "        'Gaji': [50000, 60000, 70000, 55000]}\n",
    "\n",
    "df = pd.DataFrame(data)\n",
    "\n",
    "df['Gaji_Baru'] = df.apply(lambda row: row['Gaji'] * 1.02 if row['Usia'] > 30 else row['Gaji'], axis=1)\n",
    "\n",
    "print(df)\n"
   ]
  }
 ],
 "metadata": {
  "kernelspec": {
   "display_name": "Python 3",
   "language": "python",
   "name": "python3"
  },
  "language_info": {
   "codemirror_mode": {
    "name": "ipython",
    "version": 3
   },
   "file_extension": ".py",
   "mimetype": "text/x-python",
   "name": "python",
   "nbconvert_exporter": "python",
   "pygments_lexer": "ipython3",
   "version": "3.9.0"
  }
 },
 "nbformat": 4,
 "nbformat_minor": 2
}
